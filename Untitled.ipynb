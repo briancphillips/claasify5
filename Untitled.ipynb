{
 "cells": [
  {
   "cell_type": "code",
   "execution_count": 1,
   "id": "b73f6463-2f8b-47c5-a404-faa70a137f01",
   "metadata": {},
   "outputs": [
    {
     "ename": "AttributeError",
     "evalue": "'TraditionalExperiment' object has no attribute 'run'",
     "output_type": "error",
     "traceback": [
      "\u001b[0;31m---------------------------------------------------------------------------\u001b[0m",
      "\u001b[0;31mAttributeError\u001b[0m                            Traceback (most recent call last)",
      "Cell \u001b[0;32mIn[1], line 14\u001b[0m\n\u001b[1;32m      5\u001b[0m exp \u001b[38;5;241m=\u001b[39m TraditionalExperiment(\n\u001b[1;32m      6\u001b[0m     config\u001b[38;5;241m=\u001b[39mcreate_experiment_config(\n\u001b[1;32m      7\u001b[0m         dataset_name\u001b[38;5;241m=\u001b[39m\u001b[38;5;124m\"\u001b[39m\u001b[38;5;124mcifar100\u001b[39m\u001b[38;5;124m\"\u001b[39m,\n\u001b[0;32m   (...)\u001b[0m\n\u001b[1;32m     10\u001b[0m     )\n\u001b[1;32m     11\u001b[0m )\n\u001b[1;32m     13\u001b[0m \u001b[38;5;66;03m# Run experiment\u001b[39;00m\n\u001b[0;32m---> 14\u001b[0m \u001b[43mexp\u001b[49m\u001b[38;5;241;43m.\u001b[39;49m\u001b[43mrun\u001b[49m()\n",
      "\u001b[0;31mAttributeError\u001b[0m: 'TraditionalExperiment' object has no attribute 'run'"
     ]
    }
   ],
   "source": [
    "from config.experiment_config import create_experiment_config\n",
    "from experiments.traditional import TraditionalExperiment\n",
    "\n",
    "# Create experiment\n",
    "exp = TraditionalExperiment(\n",
    "    config=create_experiment_config(\n",
    "        dataset_name=\"cifar100\",\n",
    "        model_name=\"wrn-28-10\",\n",
    "        checkpoint_path=\"checkpoints/wideresnet/wideresnet_best.pt\",\n",
    "    )\n",
    ")\n",
    "\n",
    "# Run experiment\n",
    "exp.run()"
   ]
  },
  {
   "cell_type": "code",
   "execution_count": null,
   "id": "9e81fa32-0d01-4343-a15c-e267cfa7d969",
   "metadata": {},
   "outputs": [],
   "source": []
  }
 ],
 "metadata": {
  "kernelspec": {
   "display_name": "Python 3 (ipykernel)",
   "language": "python",
   "name": "python3"
  },
  "language_info": {
   "codemirror_mode": {
    "name": "ipython",
    "version": 3
   },
   "file_extension": ".py",
   "mimetype": "text/x-python",
   "name": "python",
   "nbconvert_exporter": "python",
   "pygments_lexer": "ipython3",
   "version": "3.11.10"
  }
 },
 "nbformat": 4,
 "nbformat_minor": 5
}
